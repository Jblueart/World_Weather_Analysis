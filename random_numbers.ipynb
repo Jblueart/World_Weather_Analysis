{
 "cells": [
  {
   "cell_type": "code",
   "execution_count": 1,
   "id": "65280b1c",
   "metadata": {},
   "outputs": [],
   "source": [
    "#import random module\n",
    "\n",
    "import random"
   ]
  },
  {
   "cell_type": "code",
   "execution_count": 2,
   "id": "6e64927a",
   "metadata": {},
   "outputs": [
    {
     "data": {
      "text/plain": [
       "-34"
      ]
     },
     "execution_count": 2,
     "metadata": {},
     "output_type": "execute_result"
    }
   ],
   "source": [
    "random.randint(-90,90)"
   ]
  },
  {
   "cell_type": "code",
   "execution_count": 3,
   "id": "b6e6b54e",
   "metadata": {},
   "outputs": [
    {
     "data": {
      "text/plain": [
       "0.1581171497655398"
      ]
     },
     "execution_count": 3,
     "metadata": {},
     "output_type": "execute_result"
    }
   ],
   "source": [
    "random.random()"
   ]
  },
  {
   "cell_type": "markdown",
   "id": "775a264f",
   "metadata": {},
   "source": []
  },
  {
   "cell_type": "code",
   "execution_count": 4,
   "id": "95c24a84",
   "metadata": {},
   "outputs": [],
   "source": [
    "x = 1\n",
    "\n",
    "latitudes = []\n",
    "\n",
    "while x < 11:\n",
    "        random_lat = random.randint(-90,89) + random.random()\n",
    "        latitudes.append(random_lat)\n",
    "        x += 1"
   ]
  },
  {
   "cell_type": "code",
   "execution_count": 5,
   "id": "289d5b6e",
   "metadata": {},
   "outputs": [],
   "source": [
    "import numpy as np"
   ]
  },
  {
   "cell_type": "code",
   "execution_count": 6,
   "id": "9705584f",
   "metadata": {},
   "outputs": [
    {
     "data": {
      "text/plain": [
       "-16.26279718567345"
      ]
     },
     "execution_count": 6,
     "metadata": {},
     "output_type": "execute_result"
    }
   ],
   "source": [
    "np.random.uniform(-90.000, 90.000)"
   ]
  },
  {
   "cell_type": "code",
   "execution_count": 7,
   "id": "d693888c",
   "metadata": {},
   "outputs": [
    {
     "data": {
      "text/plain": [
       "-76.96965781468772"
      ]
     },
     "execution_count": 7,
     "metadata": {},
     "output_type": "execute_result"
    }
   ],
   "source": [
    "np.random.uniform(-90.000, 90.000)"
   ]
  },
  {
   "cell_type": "code",
   "execution_count": 8,
   "id": "94ef0da1",
   "metadata": {},
   "outputs": [],
   "source": [
    "#import timeit\n",
    "import timeit"
   ]
  },
  {
   "cell_type": "code",
   "execution_count": 9,
   "id": "1304d976",
   "metadata": {},
   "outputs": [
    {
     "name": "stdout",
     "output_type": "stream",
     "text": [
      "13 µs ± 31.5 ns per loop (mean ± std. dev. of 7 runs, 100000 loops each)\n"
     ]
    }
   ],
   "source": [
    "%timeit np.random.uniform(low=-90, high=90, size=1500)"
   ]
  },
  {
   "cell_type": "code",
   "execution_count": 10,
   "id": "13367482",
   "metadata": {},
   "outputs": [
    {
     "name": "stdout",
     "output_type": "stream",
     "text": [
      "1.62 ms ± 10.8 µs per loop (mean ± std. dev. of 7 runs, 1000 loops each)\n"
     ]
    }
   ],
   "source": [
    "def latitudes(size):\n",
    "    latitudes = []\n",
    "    x = 0\n",
    "    while x < (size):\n",
    "        random_lat = random.randint(-90, 90) + random.random()\n",
    "        latitudes.append(random_lat)\n",
    "        x += 1\n",
    "    return latitudes\n",
    "# Call the function with 1500.\n",
    "%timeit latitudes(1500)"
   ]
  },
  {
   "cell_type": "code",
   "execution_count": 12,
   "id": "11ec5080",
   "metadata": {},
   "outputs": [
    {
     "data": {
      "text/plain": [
       "<function __main__.latitudes(size)>"
      ]
     },
     "execution_count": 12,
     "metadata": {},
     "output_type": "execute_result"
    }
   ],
   "source": [
    "latitudes\n"
   ]
  },
  {
   "cell_type": "code",
   "execution_count": 13,
   "id": "de2e0b03",
   "metadata": {},
   "outputs": [],
   "source": [
    "#import numpy: numerical mathmatics library that can be used to make arrays or matrices of numbers\n",
    "import numpy as np\n",
    "\n"
   ]
  },
  {
   "cell_type": "code",
   "execution_count": 17,
   "id": "c2569486",
   "metadata": {},
   "outputs": [
    {
     "data": {
      "text/plain": [
       "array([-27.71403112,  59.48493654, -85.3481899 , -83.49778841,\n",
       "        11.21188159,  -1.69580949,  30.42873969,  26.2179878 ,\n",
       "         5.91357936,  81.44660267,  69.42052698, -39.45278933,\n",
       "       -77.36154459,  53.90318275, -30.06045492, -59.38867911,\n",
       "       -32.25242349,  18.19421512,  11.70101883, -82.83579116,\n",
       "        61.83158053,  65.9532427 ,  37.59039178,   7.05799232,\n",
       "        54.35314838,  42.84625083,  19.79605898,  19.10595998,\n",
       "        58.65614876, -81.15768858, -82.17702905,  78.78049541,\n",
       "       -80.39739793, -78.5977874 , -69.57169325,  33.89169751,\n",
       "       -14.80179428, -32.29226116,  61.86851059,  85.4128394 ,\n",
       "       -10.40076384, -55.80785135,  89.28479669, -25.09044622,\n",
       "       -39.48111874,  16.25914909,  62.56337581, -68.13527441,\n",
       "        27.44722254,  56.87719854])"
      ]
     },
     "execution_count": 17,
     "metadata": {},
     "output_type": "execute_result"
    }
   ],
   "source": [
    "np.random.uniform(low=-90, high=90, size = 50)"
   ]
  }
 ],
 "metadata": {
  "kernelspec": {
   "display_name": "PythonData",
   "language": "python",
   "name": "pythondata"
  },
  "language_info": {
   "codemirror_mode": {
    "name": "ipython",
    "version": 3
   },
   "file_extension": ".py",
   "mimetype": "text/x-python",
   "name": "python",
   "nbconvert_exporter": "python",
   "pygments_lexer": "ipython3",
   "version": "3.7.13"
  }
 },
 "nbformat": 4,
 "nbformat_minor": 5
}
